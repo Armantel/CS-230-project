{
 "cells": [
  {
   "cell_type": "code",
   "execution_count": null,
   "metadata": {},
   "outputs": [],
   "source": [
    "# Import libraries\n",
    "import numpy as np\n",
    "import matplotlib.pyplot as plt\n",
    "\n",
    "# This imports the cat vs non-cat image dataset from the course\n",
    "from cats import *\n",
    "\n",
    "# This imports the main code to perform forward and backprop for a feed-forward neural network\n",
    "# The functions/modifications to the code that I've implemented are in this file\n",
    "from aNN import *\n"
   ]
  },
  {
   "cell_type": "code",
   "execution_count": null,
   "metadata": {},
   "outputs": [],
   "source": [
    "# The artificial synapse device current (Id) must be mapped to algorithm weights (w)\n",
    "# Choose a positive w_range below, right now w_range = [0, 0.05]\n",
    "# (the negative range is generated automatically)\n",
    "\n",
    "# Some possible examples:\n",
    "# w_range = [0.1, 0.2]\n",
    "# w_range = [0, 0.01]\n",
    "\n",
    "w_range = np.array([0, 0.02]).reshape(1,2)\n",
    "assert(w_range.shape == (1,2)) # Check to avoid shape = (2,)\n"
   ]
  },
  {
   "cell_type": "code",
   "execution_count": null,
   "metadata": {},
   "outputs": [],
   "source": [
    "# This loads the cat image data\n",
    "\n",
    "# Load data\n",
    "train_x_orig, train_y, test_x_orig, test_y, classes = load_data()\n",
    "\n",
    "# Some definitions\n",
    "m_train = train_x_orig.shape[0]\n",
    "num_px = train_x_orig.shape[1]\n",
    "m_test = test_x_orig.shape[0]\n",
    "\n",
    "# Reshape the training and test examples to column vectors\n",
    "train_x_flatten = train_x_orig.reshape(train_x_orig.shape[0], -1).T\n",
    "test_x_flatten = test_x_orig.reshape(test_x_orig.shape[0], -1).T\n",
    "\n",
    "# Standardize data to have feature values between 0 and 1\n",
    "train_x = train_x_flatten / 255.\n",
    "test_x = test_x_flatten / 255.\n"
   ]
  },
  {
   "cell_type": "code",
   "execution_count": null,
   "metadata": {},
   "outputs": [],
   "source": [
    "# (Optional) Check picture from the training set\n",
    "\n",
    "# Choose index\n",
    "index = 10\n",
    "plt.imshow(train_x_orig[index])\n",
    "print (\"y = \" + str(train_y[0, index]) + \". It's a \" + classes[train_y[0, index]].decode(\"utf-8\") + \" picture.\")\n"
   ]
  },
  {
   "cell_type": "code",
   "execution_count": null,
   "metadata": {},
   "outputs": [],
   "source": [
    "# Train L-layer model\n",
    "\n",
    "\n",
    "# This code will train an L-layer model and output every 100th iteration:\n",
    "# Cost\n",
    "# Training acurracy\n",
    "# Test accuracy\n",
    "\n",
    "# Initial and final weight distributions, i.e. before and after training, which is\n",
    "# useful to visualize the effect of limited weight range\n",
    "\n",
    "\n",
    "\n",
    "# Choose layer dimensions\n",
    "layers_dims = [num_px*num_px * 3, 20, 1]\n",
    "\n",
    "\n",
    "\n",
    "# Below are the currently available options to impose weight limitations during forward and backprop:\n",
    "\n",
    "# If w_limit = [True,...], weights will be limited to the range set by w_range \n",
    "# If w_limit = [False,...], weights are non-limited\n",
    "\n",
    "\n",
    "# If w_limit = [...,\"Xavier\"], weights are initialized according to Xavier initialization\n",
    "# If w_limit = [..., \"Normal\"], weights are initialized as a Gaussian truncated (limited) by w_range\n",
    "# If w_limit = [..., \"Uniform\"], weights are uniformly initialized over the range set by w_range\n",
    "\n",
    "\n",
    "# Use w_centered = True, to initialize weights uniformly, e.g. from [-1,1] if w_limit = [0,1]\n",
    "# Use w_centered = False, to itialize weights non-unifromly, e.g. [-1,-0.1] to [0.1,1] if w_limit = [0.1,1]\n",
    "\n",
    "# The noise feature is not yet fully implemented! Ignore and leave noise = 0\n",
    "\n",
    "\n",
    "parameters, caches, w_initial, w_final, accuracy_train, accuracy_test, costs = L_layer_model(\n",
    "        train_x, train_y, test_x, test_y, layers_dims,\n",
    "        learning_rate = 0.01, num_iterations = 5000, print_cost = True,\n",
    "        noise = 0, w_limit = [True, \"Normal\"], w_centered = True, w_range = w_range)"
   ]
  },
  {
   "cell_type": "code",
   "execution_count": null,
   "metadata": {},
   "outputs": [],
   "source": []
  }
 ],
 "metadata": {
  "kernelspec": {
   "display_name": "Python 3",
   "language": "python",
   "name": "python3"
  },
  "language_info": {
   "codemirror_mode": {
    "name": "ipython",
    "version": 3
   },
   "file_extension": ".py",
   "mimetype": "text/x-python",
   "name": "python",
   "nbconvert_exporter": "python",
   "pygments_lexer": "ipython3",
   "version": "3.6.4"
  }
 },
 "nbformat": 4,
 "nbformat_minor": 2
}
